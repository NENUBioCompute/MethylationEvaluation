{
 "cells": [
  {
   "cell_type": "code",
   "execution_count": 1,
   "id": "bbdeb208-5afd-4e4b-a8a8-38e2bb4aa587",
   "metadata": {},
   "outputs": [],
   "source": [
    "import os\n",
    "import json\n",
    "import pandas as pd\n",
    "from collections import defaultdict"
   ]
  },
  {
   "cell_type": "code",
   "execution_count": 2,
   "id": "40604f46-2d5b-468d-aef8-ac9ed8a9f768",
   "metadata": {},
   "outputs": [],
   "source": [
    "common_col = ['ID', 'Tissue', 'Disease', 'Condition', 'Age', 'Age_unit', 'Gender', 'Race']"
   ]
  },
  {
   "cell_type": "code",
   "execution_count": 17,
   "id": "647c71a9-bc93-4fb5-a379-7bfdd5aa1171",
   "metadata": {},
   "outputs": [],
   "source": [
    "import os\n",
    "import json\n",
    "import pandas as pd\n",
    "from collections import defaultdict\n",
    "\n",
    "common_col = ['ID', 'Tissue', 'Disease', 'Condition', 'Age', 'Age_unit', 'Gender', 'Race']\n",
    "code_mapping_dir = '../Datasets/mapped_lv3'\n",
    "hand_mapping_dir = '../Datasets/meta'\n",
    "version = 3\n",
    "\n",
    "record_diff = defaultdict(dict)\n",
    "table = {key: [] for key in ['dataset']+common_col}\n",
    "for i, file_name in enumerate(os.listdir(hand_mapping_dir)):\n",
    "    dataset = file_name.split('_')[0]\n",
    "    hand_mapping_file_path = os.path.join(hand_mapping_dir, file_name)\n",
    "    code_mapping_file_path = os.path.join(code_mapping_dir, dataset+'_pheno.csv')\n",
    "    try:\n",
    "        code_mapping_data = pd.read_csv(code_mapping_file_path)\n",
    "    except:\n",
    "        continue\n",
    "    if file_name.split('.')[-1] != 'csv': \n",
    "        hand_mapping_data = pd.read_excel(hand_mapping_file_path)\n",
    "    else:\n",
    "        hand_mapping_data = pd.read_csv(hand_mapping_file_path)\n",
    "    table['dataset'].append(dataset)\n",
    "    for col in common_col:\n",
    "        code_made = set([str(item) for item in code_mapping_data[col] if str(item) != 'nan'])\n",
    "        hand_made = set([str(item) for item in hand_mapping_data[col] if str(item) != 'nan'])\n",
    "        hand_diff = hand_made.difference(code_made)\n",
    "        code_diff = code_made.difference(hand_made)\n",
    "        if not hand_diff and not code_diff: \n",
    "            table[col].append('*')\n",
    "            continue\n",
    "        table[col].append(' ')\n",
    "        record_diff[dataset][col] = {'hand_made': sorted(list(hand_diff)), \n",
    "                                    'code_made': sorted(list(code_diff))\n",
    "                                    }\n",
    "df = pd.DataFrame(table)\n",
    "df.to_csv('complement_table_v{}.csv'.format(version))\n",
    "\n",
    "with open('Compare_TwoVesion_HeadingFile_v{}.json'.format(version), 'w') as jf:\n",
    "    json.dump(record_diff, jf, indent=4, ensure_ascii=False)"
   ]
  }
 ],
 "metadata": {
  "kernelspec": {
   "display_name": "Python 3",
   "language": "python",
   "name": "python3"
  },
  "language_info": {
   "codemirror_mode": {
    "name": "ipython",
    "version": 3
   },
   "file_extension": ".py",
   "mimetype": "text/x-python",
   "name": "python",
   "nbconvert_exporter": "python",
   "pygments_lexer": "ipython3",
   "version": "3.6.13"
  }
 },
 "nbformat": 4,
 "nbformat_minor": 5
}
