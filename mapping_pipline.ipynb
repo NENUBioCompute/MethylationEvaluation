{
 "cells": [
  {
   "cell_type": "code",
   "execution_count": 1,
   "id": "113f9c6b-ee05-48bc-866e-3798e42f2851",
   "metadata": {},
   "outputs": [],
   "source": [
    "import json\n",
    "import pandas as pd\n",
    "import os\n",
    "from collections import defaultdict"
   ]
  },
  {
   "cell_type": "code",
   "execution_count": 129,
   "id": "5ac43e2a-be29-4ead-8187-68ed0d651fa1",
   "metadata": {},
   "outputs": [],
   "source": [
    "class Mapping():\n",
    "    def __init__(self):\n",
    "        self.mapping_dict = self.get_mapping_dict()\n",
    "        \n",
    "    def get_mapping_dict(self):\n",
    "        with open('json file/mapping_dict_lv3.json', 'r') as jf:\n",
    "            mapping_dict = json.load(jf)\n",
    "        return mapping_dict\n",
    "        \n",
    "    def mapping(self, dataset, fetch='ALL'):\n",
    "        if fetch =='ALL':\n",
    "            return self.mapping_dict[dataset]\n",
    "        elif fetch not in self.mapping_dict[dataset]:\n",
    "            raise Exception(\"Sorry, this is not normal item!\")\n",
    "        else:\n",
    "            return self.mapping_dict[dataset][fetch]"
   ]
  },
  {
   "cell_type": "code",
   "execution_count": 130,
   "id": "914e65c2-8388-4362-bbfe-728a7dfb0ec3",
   "metadata": {},
   "outputs": [],
   "source": [
    "a = Mapping()"
   ]
  },
  {
   "cell_type": "markdown",
   "id": "acbee972-893f-44c1-9bce-fae67c71057e",
   "metadata": {},
   "source": [
    "## pipline"
   ]
  },
  {
   "cell_type": "code",
   "execution_count": 131,
   "id": "3d391a74-5f76-4367-b946-d2f82f3e5ef2",
   "metadata": {},
   "outputs": [],
   "source": [
    "def get_mapping_df(orign_df, mapping_dict):\n",
    "    mapped_dict = defaultdict(list)\n",
    "    if 'geo_accession' not in orign_df: return\n",
    "    mapped_dict['ID'] = orign_df['geo_accession']\n",
    "    for key, values in mapping_dict.items():\n",
    "        # key: 'Disease'\n",
    "        # values: {'status(0=healthy,1=cancer):ch1': defaultdict(dict, {0: 'Healthy', 1: 'Breast cancer'})},\n",
    "        for value_key, value_mapping in values.items():\n",
    "            # if key =='Age':\n",
    "            #     print(value_key, value_mapping, list(orign_df[value_key]))\n",
    "            if value_key in orign_df:\n",
    "                # print(mapping_dict[key][value_key])\n",
    "                orign_df[value_key] = orign_df[value_key].astype('str')\n",
    "                orign_df[value_key] = orign_df[value_key].replace({'nan': 'NaN', '': 'NaN'})\n",
    "                # print(list(orign_df[value_key]))\n",
    "                mapped_dict[key] = orign_df[value_key].replace(mapping_dict[key][value_key])\n",
    "                # print(list(mapped_dict[key]))\n",
    "            else:\n",
    "                mapped_dict[key] = [value_key]*orign_df.shape[0]\n",
    "    mapped_df = pd.DataFrame(mapped_dict)\n",
    "    for col in list(mapped_df):\n",
    "        mapped_df = mapped_df.drop(mapped_df[mapped_df[col] == '#remove#'].index)\n",
    "    # mapped_df = mapped_df.drop(mapped_df[mapped_df.Disease == '#remove#'].index)\n",
    "    return mapped_df"
   ]
  },
  {
   "cell_type": "code",
   "execution_count": 132,
   "id": "9f5eb8ec-5bc0-499f-93a5-948c3847a634",
   "metadata": {
    "tags": []
   },
   "outputs": [],
   "source": [
    "dir_path = '../Datasets/orignal'\n",
    "for i, file_name in enumerate(os.listdir(dir_path)):\n",
    "    file_path = os.path.join(dir_path, file_name)\n",
    "    if file_name.split('.')[-1] == 'csv':\n",
    "        data = pd.read_csv(file_path)\n",
    "    if file_name.split('.')[-1] == 'xlsx':\n",
    "        data = pd.read_excel(file_path)\n",
    "    dataset = file_name.split('_')[0]\n",
    "    mapping_dict = a.mapping(dataset, fetch='ALL')\n",
    "    mapped_df = get_mapping_df(data, mapping_dict)\n",
    "    try:\n",
    "        mapped_df.to_csv(os.path.join('../Datasets/mapped_lv3', file_name.split('.')[0]+'.csv'), index=None)\n",
    "    except:\n",
    "        continue"
   ]
  },
  {
   "cell_type": "code",
   "execution_count": null,
   "id": "4d6034c8-84b4-4bfa-acd2-2bef56d89f3f",
   "metadata": {},
   "outputs": [],
   "source": []
  }
 ],
 "metadata": {
  "kernelspec": {
   "display_name": "Python 3",
   "language": "python",
   "name": "python3"
  },
  "language_info": {
   "codemirror_mode": {
    "name": "ipython",
    "version": 3
   },
   "file_extension": ".py",
   "mimetype": "text/x-python",
   "name": "python",
   "nbconvert_exporter": "python",
   "pygments_lexer": "ipython3",
   "version": "3.6.13"
  }
 },
 "nbformat": 4,
 "nbformat_minor": 5
}
